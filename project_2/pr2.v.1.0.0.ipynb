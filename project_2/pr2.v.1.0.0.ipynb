{
 "cells": [
  {
   "cell_type": "code",
   "execution_count": 2,
   "id": "965deec6",
   "metadata": {},
   "outputs": [
    {
     "name": "stdout",
     "output_type": "stream",
     "text": [
      "Collecting prettytable\n",
      "  Obtaining dependency information for prettytable from https://files.pythonhosted.org/packages/d9/5a/bfdc26c0e19156992b1dc9de47f0b2e8992fe43db9981d814f860bdce2b3/prettytable-3.11.0-py3-none-any.whl.metadata\n",
      "  Downloading prettytable-3.11.0-py3-none-any.whl.metadata (30 kB)\n",
      "Requirement already satisfied: wcwidth in o:\\users\\scemu\\anaconda3\\lib\\site-packages (from prettytable) (0.2.5)\n",
      "Downloading prettytable-3.11.0-py3-none-any.whl (28 kB)\n",
      "Installing collected packages: prettytable\n",
      "Successfully installed prettytable-3.11.0\n",
      "Note: you may need to restart the kernel to use updated packages.\n"
     ]
    }
   ],
   "source": [
    "pip install prettytable"
   ]
  },
  {
   "cell_type": "code",
   "execution_count": 4,
   "id": "a785b5ae",
   "metadata": {},
   "outputs": [
    {
     "name": "stdout",
     "output_type": "stream",
     "text": [
      "+------------+--------+------------------+---------------+---------------+\n",
      "|  Фамилия   |  Имя   |     Предмет      | Дата экзамена | Преподаватель |\n",
      "+------------+--------+------------------+---------------+---------------+\n",
      "|   Ильин    | Андрей |      Физика      |   2024-09-29  | Варзонов В.В. |\n",
      "|   Ильин    | Андрей | Программирование |   2024-09-29  |  Петрова Б.Б. |\n",
      "|   Ильин    | Андрей |      Физика      |   2024-09-29  | Кузнецов А.А. |\n",
      "| Сачковский |  Петр  | Программирование |   2024-09-29  | Кузнецов А.А. |\n",
      "| Сачковский |  Петр  |      Физика      |   2024-09-29  | Варзонов В.В. |\n",
      "| Сачковский |  Петр  | Программирование |   2024-09-29  |  Петрова Б.Б. |\n",
      "| Сачковский |  Петр  | Программирование |   2024-09-29  | Кузнецов А.А. |\n",
      "|  Семенов   | Михаил |      Физика      |   2024-09-29  |  Петрова Б.Б. |\n",
      "|  Семенов   | Михаил |      Физика      |   2024-09-29  | Кузнецов А.А. |\n",
      "|  Семенов   | Михаил |     История      |   2024-09-29  | Варзонов В.В. |\n",
      "|  Семенов   | Михаил |      Физика      |   2024-09-29  | Варзонов В.В. |\n",
      "+------------+--------+------------------+---------------+---------------+\n"
     ]
    }
   ],
   "source": [
    "import random\n",
    "from datetime import datetime\n",
    "from prettytable import PrettyTable\n",
    "\n",
    "class Student:\n",
    "    def __init__(self, last_name, first_name, birth_date):\n",
    "        self.last_name = last_name\n",
    "        self.first_name = first_name\n",
    "        self.birth_date = birth_date\n",
    "        self.grades = []\n",
    "\n",
    "    def add_exam(self, subject, exam_date, teacher_full_name):\n",
    "        self.grades.append({\n",
    "            'subject': subject,\n",
    "            'exam_date': exam_date,\n",
    "            'teacher_full_name': teacher_full_name\n",
    "        })\n",
    "\n",
    "\n",
    "class Group:\n",
    "    def __init__(self):\n",
    "        self.students = []\n",
    "\n",
    "    def add_student(self, student):\n",
    "        self.students.append(student)\n",
    "\n",
    "    def get_exam_schedule(self):\n",
    "        exam_schedule = []\n",
    "        for student in self.students:\n",
    "            for exam in student.grades:\n",
    "                exam_schedule.append({\n",
    "                    'last_name': student.last_name,\n",
    "                    'first_name': student.first_name,\n",
    "                    'subject': exam['subject'],\n",
    "                    'exam_date': exam['exam_date'],\n",
    "                    'teacher_full_name': exam['teacher_full_name']\n",
    "                })\n",
    "        return exam_schedule\n",
    "\n",
    "def main():\n",
    "    # Пример данных\n",
    "    students_data = [\n",
    "        (\"Ильин\", \"Андрей\", (2000, 5, 15)),\n",
    "        (\"Сачковский\", \"Петр\", (2001, 6, 20)),\n",
    "        (\"Семенов\", \"Михаил\", (1999, 7, 30))\n",
    "    ]\n",
    "\n",
    "    subjects = [\"Математика\", \"Физика\", \"Химия\", \"Программирование\", \"История\"]\n",
    "    teachers = [\"Кузнецов А.А.\", \"Петрова Б.Б.\", \"Варзонов В.В.\"]\n",
    "\n",
    "    group = Group()\n",
    "\n",
    "    for last_name, first_name, birth_date in students_data:\n",
    "        student = Student(last_name, first_name, datetime(*birth_date))\n",
    "        for _ in range(random.randint(3, 5)):  # добавление от 3 до 5 экзаменов\n",
    "            subject = random.choice(subjects)\n",
    "            exam_date = datetime.now()  \n",
    "            teacher_full_name = random.choice(teachers)\n",
    "            student.add_exam(subject, exam_date.strftime(\"%Y-%m-%d\"), teacher_full_name)\n",
    "        group.add_student(student)\n",
    "\n",
    "    # Выводим расписание экзаменов\n",
    "    exam_schedule = group.get_exam_schedule()\n",
    "\n",
    "    table = PrettyTable()\n",
    "    table.field_names = [\"Фамилия\", \"Имя\", \"Предмет\", \"Дата экзамена\", \"Преподаватель\"]\n",
    "\n",
    "    for exam in exam_schedule:\n",
    "        table.add_row([exam['last_name'], exam['first_name'], exam['subject'], exam['exam_date'], exam['teacher_full_name']])\n",
    "\n",
    "    print(table)\n",
    "\n",
    "if __name__ == \"__main__\":\n",
    "    main()"
   ]
  }
 ],
 "metadata": {
  "kernelspec": {
   "display_name": "Python 3 (ipykernel)",
   "language": "python",
   "name": "python3"
  },
  "language_info": {
   "codemirror_mode": {
    "name": "ipython",
    "version": 3
   },
   "file_extension": ".py",
   "mimetype": "text/x-python",
   "name": "python",
   "nbconvert_exporter": "python",
   "pygments_lexer": "ipython3",
   "version": "3.11.4"
  }
 },
 "nbformat": 4,
 "nbformat_minor": 5
}
