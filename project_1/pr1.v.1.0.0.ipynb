{
 "cells": [
  {
   "cell_type": "code",
   "execution_count": 1,
   "id": "eb434571",
   "metadata": {},
   "outputs": [
    {
     "name": "stdout",
     "output_type": "stream",
     "text": [
      "Сгенерированный пароль: 7yz85CR&QY@e\n"
     ]
    }
   ],
   "source": [
    "import random\n",
    "import string\n",
    "\n",
    "def generate_password(length: int) -> str:\n",
    "    if length < 8 or length > 32:\n",
    "        raise ValueError(\"Длина пароля должна быть от 8 до 32 символов.\")\n",
    "    \n",
    "    # Определяем символы, которые будем использовать\n",
    "    lowercase = string.ascii_lowercase    # буквы в нижнем регистре\n",
    "    uppercase = string.ascii_uppercase    # буквы в верхнем регистре\n",
    "    digits = string.digits                # цифры\n",
    "    special_characters = string.punctuation  # специальные символы\n",
    "\n",
    "    # Объединяем все символы\n",
    "    all_characters = lowercase + uppercase + digits + special_characters\n",
    "\n",
    "    # Генерируем пароль\n",
    "    password = ''.join(random.choice(all_characters) for _ in range(length))\n",
    "    \n",
    "    return password\n",
    "\n",
    "# Пример использования\n",
    "length = 12  # Задайте длину пароля\n",
    "password = generate_password(length)\n",
    "print(\"Сгенерированный пароль:\", password)"
   ]
  }
 ],
 "metadata": {
  "kernelspec": {
   "display_name": "Python 3 (ipykernel)",
   "language": "python",
   "name": "python3"
  },
  "language_info": {
   "codemirror_mode": {
    "name": "ipython",
    "version": 3
   },
   "file_extension": ".py",
   "mimetype": "text/x-python",
   "name": "python",
   "nbconvert_exporter": "python",
   "pygments_lexer": "ipython3",
   "version": "3.11.4"
  }
 },
 "nbformat": 4,
 "nbformat_minor": 5
}
